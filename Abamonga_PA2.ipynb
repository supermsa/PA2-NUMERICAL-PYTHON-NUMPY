{
 "cells": [
  {
   "cell_type": "markdown",
   "id": "79248e93-a4e1-4ed4-abb8-b06e98f8fdb4",
   "metadata": {},
   "source": [
    "**Michelle Sophia A. Abamonga**\\\n",
    "2 -ECEB\\\n",
    "PA 2 - NUMERICAL PYTHON (NUMPY)"
   ]
  },
  {
   "cell_type": "markdown",
   "id": "055b128e-9b05-4af8-b2c1-28cf375ae0c4",
   "metadata": {},
   "source": [
    "## A. NORMALIZATION PROBLEM\n",
    "In this problem, create a random 5 x 5 ndarray and store it to variable X. Normalize X. Save your normalized\n",
    "ndarray as X_normalized.npy"
   ]
  },
  {
   "cell_type": "markdown",
   "id": "0935d4e1-1eaa-44f9-800b-3356c3ccc2f3",
   "metadata": {},
   "source": [
    "#### 1. Import the NumPy library in Python\n",
    "Assign numpy the alias **np** for easier reference."
   ]
  },
  {
   "cell_type": "code",
   "execution_count": 4,
   "id": "7836bb97-77b5-4ad3-958d-f30ec0d7fd62",
   "metadata": {},
   "outputs": [],
   "source": [
    "import numpy as np"
   ]
  },
  {
   "cell_type": "markdown",
   "id": "fbced828-869f-4de3-b813-5b144c8c5b2d",
   "metadata": {},
   "source": [
    "#### 2. Create a randomized 5x5 ndarray and store it in variable X\n",
    "\n",
    "In this particular syntax the function **np.random.rand()** generates an array of random floating-point numbers between 0 and 1, based on the dimensions specified by the user (5 row and 5 columns). \n",
    "\n",
    "On the other hand, to generate random integers, the function **np.random.randint()** should be used."
   ]
  },
  {
   "cell_type": "code",
   "execution_count": 6,
   "id": "99021516-728a-4490-bca1-3eb613e11cab",
   "metadata": {},
   "outputs": [
    {
     "data": {
      "text/plain": [
       "array([[0.30042608, 0.46480332, 0.045934  , 0.93659386, 0.06171676],\n",
       "       [0.04637648, 0.51313869, 0.84898423, 0.48414989, 0.69887532],\n",
       "       [0.98313454, 0.41401875, 0.33570859, 0.85389833, 0.42972917],\n",
       "       [0.48671498, 0.00146986, 0.73953109, 0.0972859 , 0.52859453],\n",
       "       [0.34320433, 0.85433735, 0.92599281, 0.19761735, 0.96187277]])"
      ]
     },
     "execution_count": 6,
     "metadata": {},
     "output_type": "execute_result"
    }
   ],
   "source": [
    "X = np.random.rand(5, 5)\n",
    "\n",
    "X"
   ]
  },
  {
   "cell_type": "markdown",
   "id": "96be47fa-969e-4414-9122-38a86d98cd43",
   "metadata": {},
   "source": [
    "#### 3. Calculate the mean\n",
    "\n",
    "In this syntax, the **np.mean()** function calculates the mean (average) of the array X. It is a built-in function provided by NumPy."
   ]
  },
  {
   "cell_type": "code",
   "execution_count": 8,
   "id": "8f4a4496-d23c-4eb3-b261-8a32501c7b39",
   "metadata": {},
   "outputs": [
    {
     "data": {
      "text/plain": [
       "0.5021643601833532"
      ]
     },
     "execution_count": 8,
     "metadata": {},
     "output_type": "execute_result"
    }
   ],
   "source": [
    "mean = np.mean(X)\n",
    "\n",
    "mean"
   ]
  },
  {
   "cell_type": "markdown",
   "id": "5a9db0b7-4834-4c63-9535-d399b9a45191",
   "metadata": {},
   "source": [
    "#### 4. Calculate the standard deviation of X\n",
    "\n",
    "In this syntax, the **np.std()** function calculates the standard deviation of the array X. It is also a built-in function provided by NumPy."
   ]
  },
  {
   "cell_type": "code",
   "execution_count": 10,
   "id": "9a747bed-7d5c-4a6e-9ec4-cb1f4a1a16e5",
   "metadata": {},
   "outputs": [
    {
     "data": {
      "text/plain": [
       "0.3162790177002085"
      ]
     },
     "execution_count": 10,
     "metadata": {},
     "output_type": "execute_result"
    }
   ],
   "source": [
    "std = np.std(X)\n",
    "\n",
    "std"
   ]
  },
  {
   "cell_type": "markdown",
   "id": "65338edc-3f4c-4761-8bac-d6a266010550",
   "metadata": {},
   "source": [
    "#### 5. Normalize X using the formula: Z = (X - mean) / std\n",
    "\n",
    "With the formula to normalize the array: **Z = (X - mean) / std**, the function **X_normalized** is defined. The given formula is particularly used for Z-score normalization, also known as standardization. This is a method of scaling data so that it has a mean of 0 and a standard deviation of 1. "
   ]
  },
  {
   "cell_type": "code",
   "execution_count": 12,
   "id": "a5a15ba1-b3d6-4e62-a9d0-b6f524c3fb59",
   "metadata": {},
   "outputs": [
    {
     "data": {
      "text/plain": [
       "array([[-0.63784909, -0.11812684, -1.44249329,  1.37356409, -1.39259189],\n",
       "       [-1.44109428,  0.03469827,  1.09656302, -0.05695752,  0.62195388],\n",
       "       [ 1.5207148 , -0.27869571, -0.52629406,  1.11210024, -0.22902308],\n",
       "       [-0.04884731, -1.58307847,  0.75049788, -1.28013064,  0.083566  ],\n",
       "       [-0.50259429,  1.1134883 ,  1.34004604, -0.96290613,  1.45349008]])"
      ]
     },
     "execution_count": 12,
     "metadata": {},
     "output_type": "execute_result"
    }
   ],
   "source": [
    "X_normalized = (X - mean) / std\n",
    "\n",
    "X_normalized"
   ]
  },
  {
   "cell_type": "markdown",
   "id": "dada0ade-60ee-47db-8e96-6dbc67355478",
   "metadata": {},
   "source": [
    "#### 6. Save the normalized ndarray as X_normalized.npy\n",
    "The np.save() function saves the normalized ndarray to a specified file location, which is automatically generated when the code is executed. The syntax follows the format np.save('filename', array)."
   ]
  },
  {
   "cell_type": "code",
   "execution_count": 14,
   "id": "9fa2b36c-d3f4-4e76-ba76-a56a41a22f56",
   "metadata": {},
   "outputs": [],
   "source": [
    "np.save(\"X_normalized.npy\", X_normalized)"
   ]
  },
  {
   "cell_type": "markdown",
   "id": "b410ee1b-26ff-4aec-815b-2da19bc12b9d",
   "metadata": {},
   "source": [
    "## B. DIVISIBLE BY 3 PROBLEM\n",
    "In this problem, create a 10 x 10 ndarray which are the squares of the first 100 positive integers. From this ndarray, determine all the elements that are divisible by 3. Save the result as div_by_3.np.yy"
   ]
  },
  {
   "cell_type": "markdown",
   "id": "3c6583d4-b43a-446b-a867-2923c948d6c0",
   "metadata": {},
   "source": [
    "#### 1. Import the NumPy library in Python\n",
    "Assign numpy the alias **np** for easier reference."
   ]
  },
  {
   "cell_type": "code",
   "execution_count": 16,
   "id": "3626a4c0-ed2d-4c19-b9bd-b59bb864a187",
   "metadata": {},
   "outputs": [],
   "source": [
    "import numpy as np"
   ]
  },
  {
   "cell_type": "markdown",
   "id": "a537dbef-0d88-4843-a002-0a048430de73",
   "metadata": {},
   "source": [
    "#### 2. Create array of integers from 1 to 100, squaring each integer\n",
    "In this syntax, the function **np.arange(1, 101)** generates a NumPy array of integers from 1 to 100 (101 is excluded). The exponentiation operator **2 then squares each element in the array, raising every number from 1 to 100 to the power of 2.\n",
    "\n",
    "**np.arange()** is typically used with the syntax np.arange(start, stop, step), where start is the first number in the range, stop is the end number (exclusive), and step defines the interval between values"
   ]
  },
  {
   "cell_type": "code",
   "execution_count": 17,
   "id": "056003c5-3224-4ac1-b2ec-73154546573d",
   "metadata": {},
   "outputs": [
    {
     "data": {
      "text/plain": [
       "array([    1,     4,     9,    16,    25,    36,    49,    64,    81,\n",
       "         100,   121,   144,   169,   196,   225,   256,   289,   324,\n",
       "         361,   400,   441,   484,   529,   576,   625,   676,   729,\n",
       "         784,   841,   900,   961,  1024,  1089,  1156,  1225,  1296,\n",
       "        1369,  1444,  1521,  1600,  1681,  1764,  1849,  1936,  2025,\n",
       "        2116,  2209,  2304,  2401,  2500,  2601,  2704,  2809,  2916,\n",
       "        3025,  3136,  3249,  3364,  3481,  3600,  3721,  3844,  3969,\n",
       "        4096,  4225,  4356,  4489,  4624,  4761,  4900,  5041,  5184,\n",
       "        5329,  5476,  5625,  5776,  5929,  6084,  6241,  6400,  6561,\n",
       "        6724,  6889,  7056,  7225,  7396,  7569,  7744,  7921,  8100,\n",
       "        8281,  8464,  8649,  8836,  9025,  9216,  9409,  9604,  9801,\n",
       "       10000])"
      ]
     },
     "execution_count": 17,
     "metadata": {},
     "output_type": "execute_result"
    }
   ],
   "source": [
    "A = np.arange(1, 101)**2\n",
    "\n",
    "A"
   ]
  },
  {
   "cell_type": "markdown",
   "id": "f15cfada-3382-472d-8c13-2853bf8ac5f0",
   "metadata": {},
   "source": [
    "#### 3. Reshape array into 10x10 ndarray \n",
    "A one-dimensional array can be reshaped into a custom set of dimensions. In this syntax, Array A is reshaped into a 10x10 ndarray using the **.reshape()** function, with 10 rows and 10 columns, while retaining the same set of elements."
   ]
  },
  {
   "cell_type": "code",
   "execution_count": 18,
   "id": "6e22eb19-6bb4-401d-9b8d-7a2440cb4073",
   "metadata": {},
   "outputs": [
    {
     "data": {
      "text/plain": [
       "array([[    1,     4,     9,    16,    25,    36,    49,    64,    81,\n",
       "          100],\n",
       "       [  121,   144,   169,   196,   225,   256,   289,   324,   361,\n",
       "          400],\n",
       "       [  441,   484,   529,   576,   625,   676,   729,   784,   841,\n",
       "          900],\n",
       "       [  961,  1024,  1089,  1156,  1225,  1296,  1369,  1444,  1521,\n",
       "         1600],\n",
       "       [ 1681,  1764,  1849,  1936,  2025,  2116,  2209,  2304,  2401,\n",
       "         2500],\n",
       "       [ 2601,  2704,  2809,  2916,  3025,  3136,  3249,  3364,  3481,\n",
       "         3600],\n",
       "       [ 3721,  3844,  3969,  4096,  4225,  4356,  4489,  4624,  4761,\n",
       "         4900],\n",
       "       [ 5041,  5184,  5329,  5476,  5625,  5776,  5929,  6084,  6241,\n",
       "         6400],\n",
       "       [ 6561,  6724,  6889,  7056,  7225,  7396,  7569,  7744,  7921,\n",
       "         8100],\n",
       "       [ 8281,  8464,  8649,  8836,  9025,  9216,  9409,  9604,  9801,\n",
       "        10000]])"
      ]
     },
     "execution_count": 18,
     "metadata": {},
     "output_type": "execute_result"
    }
   ],
   "source": [
    "A = A.reshape(10, 10)\n",
    "\n",
    "A"
   ]
  },
  {
   "cell_type": "markdown",
   "id": "e43ad3d3-47fc-45fb-a4fd-5173ae180428",
   "metadata": {},
   "source": [
    "#### 4. Determine the elements divisible by 3\n",
    "\n",
    "**A % 3 == 0** checks each element in array A to see if it is divisible by 3. The modulo operator (%) returns the remainder when each element is divided by 3.\n",
    "Meanwhile, **A[A % 3 == 0]** a boolean indexing, filters the array A and returns only the elements where the condition A % 3 == 0 is True. Essentially, it creates a new array that contains only the elements from A that are divisible by 3\n",
    "\n",
    "These are then defined in the function name **div_by_3**."
   ]
  },
  {
   "cell_type": "code",
   "execution_count": 19,
   "id": "644fbee6-bae1-4055-b294-a2f6e42716de",
   "metadata": {},
   "outputs": [
    {
     "data": {
      "text/plain": [
       "array([   9,   36,   81,  144,  225,  324,  441,  576,  729,  900, 1089,\n",
       "       1296, 1521, 1764, 2025, 2304, 2601, 2916, 3249, 3600, 3969, 4356,\n",
       "       4761, 5184, 5625, 6084, 6561, 7056, 7569, 8100, 8649, 9216, 9801])"
      ]
     },
     "execution_count": 19,
     "metadata": {},
     "output_type": "execute_result"
    }
   ],
   "source": [
    "div_by_3 = A[A % 3 == 0]\n",
    "\n",
    "div_by_3"
   ]
  },
  {
   "cell_type": "markdown",
   "id": "1065d0ed-66ba-436b-bccb-f78bfd4a6d5f",
   "metadata": {},
   "source": [
    "#### 5. Save the result in another file\n",
    "The np.save() function saves the normalized ndarray to a specified file location, automatically generated when the code is executed. The syntax follows the format np.save('filename', array)."
   ]
  },
  {
   "cell_type": "code",
   "execution_count": 20,
   "id": "62817709-c97a-485f-bede-1054c87ebf85",
   "metadata": {},
   "outputs": [],
   "source": [
    "np.save('div_by_3.npy', div_by_3)"
   ]
  }
 ],
 "metadata": {
  "kernelspec": {
   "display_name": "anaconda-panel-2023.05-py310",
   "language": "python",
   "name": "conda-env-anaconda-panel-2023.05-py310-py"
  },
  "language_info": {
   "codemirror_mode": {
    "name": "ipython",
    "version": 3
   },
   "file_extension": ".py",
   "mimetype": "text/x-python",
   "name": "python",
   "nbconvert_exporter": "python",
   "pygments_lexer": "ipython3",
   "version": "3.11.5"
  }
 },
 "nbformat": 4,
 "nbformat_minor": 5
}
