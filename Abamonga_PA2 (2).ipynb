{
 "cells": [
  {
   "cell_type": "markdown",
   "id": "79248e93-a4e1-4ed4-abb8-b06e98f8fdb4",
   "metadata": {},
   "source": [
    "**Michelle Sophia A. Abamonga**\\\n",
    "2 -ECEB\\\n",
    "PA 2 - NUMERICAL PYTHON (NUMPY)"
   ]
  },
  {
   "cell_type": "markdown",
   "id": "055b128e-9b05-4af8-b2c1-28cf375ae0c4",
   "metadata": {},
   "source": [
    "## NORMALIZATION PROBLEM\n",
    "In this problem, create a random 5 x 5 ndarray and store it to variable X. Normalize X. Save your normalized\n",
    "ndarray as X_normalized.npy"
   ]
  },
  {
   "cell_type": "code",
   "execution_count": 8,
   "id": "7836bb97-77b5-4ad3-958d-f30ec0d7fd62",
   "metadata": {},
   "outputs": [],
   "source": [
    "import numpy as np"
   ]
  },
  {
   "cell_type": "code",
   "execution_count": 44,
   "id": "99021516-728a-4490-bca1-3eb613e11cab",
   "metadata": {},
   "outputs": [
    {
     "data": {
      "text/plain": [
       "array([[0.26256697, 0.09802344, 0.33544294, 0.58002692, 0.41463787],\n",
       "       [0.78449554, 0.74121957, 0.27853559, 0.8312426 , 0.19848271],\n",
       "       [0.74820316, 0.05998456, 0.7437726 , 0.6306434 , 0.31057244],\n",
       "       [0.99652952, 0.48539258, 0.72587531, 0.57141517, 0.83280102],\n",
       "       [0.93472515, 0.14293943, 0.82180642, 0.90296696, 0.07540151]])"
      ]
     },
     "execution_count": 44,
     "metadata": {},
     "output_type": "execute_result"
    }
   ],
   "source": [
    "#Create a randomized 5x5 ndarray and store it in variable X\n",
    "X = np.random.rand(5, 5)\n",
    "\n",
    "X"
   ]
  },
  {
   "cell_type": "code",
   "execution_count": 50,
   "id": "8f4a4496-d23c-4eb3-b261-8a32501c7b39",
   "metadata": {},
   "outputs": [
    {
     "data": {
      "text/plain": [
       "0.540308135324447"
      ]
     },
     "execution_count": 50,
     "metadata": {},
     "output_type": "execute_result"
    }
   ],
   "source": [
    "#Calculate the mean\n",
    "mean = np.mean(X)\n",
    "\n",
    "mean"
   ]
  },
  {
   "cell_type": "code",
   "execution_count": 52,
   "id": "9a747bed-7d5c-4a6e-9ec4-cb1f4a1a16e5",
   "metadata": {},
   "outputs": [
    {
     "data": {
      "text/plain": [
       "0.2933152188247287"
      ]
     },
     "execution_count": 52,
     "metadata": {},
     "output_type": "execute_result"
    }
   ],
   "source": [
    "#Calculate the standard deviation of X\n",
    "std = np.std(X)\n",
    "\n",
    "std"
   ]
  },
  {
   "cell_type": "code",
   "execution_count": 54,
   "id": "a5a15ba1-b3d6-4e62-a9d0-b6f524c3fb59",
   "metadata": {},
   "outputs": [
    {
     "data": {
      "text/plain": [
       "array([[-0.94690335, -1.50788184, -0.69844721,  0.13541332, -0.42844783],\n",
       "       [ 0.83250848,  0.68496763, -0.8924615 ,  0.9918833 , -1.1653859 ],\n",
       "       [ 0.70877682, -1.63756787,  0.6936717 ,  0.30798014, -0.78323824],\n",
       "       [ 1.55539624, -0.18722368,  0.63265442,  0.10605325,  0.99719642],\n",
       "       [ 1.34468651, -1.35474971,  0.95971249,  1.23641325, -1.58500684]])"
      ]
     },
     "execution_count": 54,
     "metadata": {},
     "output_type": "execute_result"
    }
   ],
   "source": [
    "#Normalize X using the formula: Z = (X - mean) / std\n",
    "X_normalized = (X - mean) / std\n",
    "\n",
    "X_normalized"
   ]
  },
  {
   "cell_type": "code",
   "execution_count": 57,
   "id": "9fa2b36c-d3f4-4e76-ba76-a56a41a22f56",
   "metadata": {},
   "outputs": [],
   "source": [
    "#Save the normalized ndarray as X_normalized.npy\n",
    "np.save(\"X_normalized.npy\", X_normalized)"
   ]
  },
  {
   "cell_type": "markdown",
   "id": "b410ee1b-26ff-4aec-815b-2da19bc12b9d",
   "metadata": {},
   "source": [
    "## DIVISIBLE BY 3 PROBLEM\n",
    "In this problem, create a 10 x 10 ndarray which are the squares of the first 100 positive integers. From this ndarray, determine all the elements that are divisible by 3. Save the result as div_by_3.np.yy"
   ]
  },
  {
   "cell_type": "code",
   "execution_count": 76,
   "id": "3626a4c0-ed2d-4c19-b9bd-b59bb864a187",
   "metadata": {},
   "outputs": [],
   "source": [
    "import numpy as np"
   ]
  },
  {
   "cell_type": "code",
   "execution_count": 78,
   "id": "056003c5-3224-4ac1-b2ec-73154546573d",
   "metadata": {},
   "outputs": [
    {
     "data": {
      "text/plain": [
       "array([    1,     4,     9,    16,    25,    36,    49,    64,    81,\n",
       "         100,   121,   144,   169,   196,   225,   256,   289,   324,\n",
       "         361,   400,   441,   484,   529,   576,   625,   676,   729,\n",
       "         784,   841,   900,   961,  1024,  1089,  1156,  1225,  1296,\n",
       "        1369,  1444,  1521,  1600,  1681,  1764,  1849,  1936,  2025,\n",
       "        2116,  2209,  2304,  2401,  2500,  2601,  2704,  2809,  2916,\n",
       "        3025,  3136,  3249,  3364,  3481,  3600,  3721,  3844,  3969,\n",
       "        4096,  4225,  4356,  4489,  4624,  4761,  4900,  5041,  5184,\n",
       "        5329,  5476,  5625,  5776,  5929,  6084,  6241,  6400,  6561,\n",
       "        6724,  6889,  7056,  7225,  7396,  7569,  7744,  7921,  8100,\n",
       "        8281,  8464,  8649,  8836,  9025,  9216,  9409,  9604,  9801,\n",
       "       10000])"
      ]
     },
     "execution_count": 78,
     "metadata": {},
     "output_type": "execute_result"
    }
   ],
   "source": [
    "#Create array of integers from 1 to 100, squaring each integer\n",
    "A = np.arange(1, 101)**2\n",
    "\n",
    "A"
   ]
  },
  {
   "cell_type": "code",
   "execution_count": 80,
   "id": "6e22eb19-6bb4-401d-9b8d-7a2440cb4073",
   "metadata": {},
   "outputs": [
    {
     "data": {
      "text/plain": [
       "array([[    1,     4,     9,    16,    25,    36,    49,    64,    81,\n",
       "          100],\n",
       "       [  121,   144,   169,   196,   225,   256,   289,   324,   361,\n",
       "          400],\n",
       "       [  441,   484,   529,   576,   625,   676,   729,   784,   841,\n",
       "          900],\n",
       "       [  961,  1024,  1089,  1156,  1225,  1296,  1369,  1444,  1521,\n",
       "         1600],\n",
       "       [ 1681,  1764,  1849,  1936,  2025,  2116,  2209,  2304,  2401,\n",
       "         2500],\n",
       "       [ 2601,  2704,  2809,  2916,  3025,  3136,  3249,  3364,  3481,\n",
       "         3600],\n",
       "       [ 3721,  3844,  3969,  4096,  4225,  4356,  4489,  4624,  4761,\n",
       "         4900],\n",
       "       [ 5041,  5184,  5329,  5476,  5625,  5776,  5929,  6084,  6241,\n",
       "         6400],\n",
       "       [ 6561,  6724,  6889,  7056,  7225,  7396,  7569,  7744,  7921,\n",
       "         8100],\n",
       "       [ 8281,  8464,  8649,  8836,  9025,  9216,  9409,  9604,  9801,\n",
       "        10000]])"
      ]
     },
     "execution_count": 80,
     "metadata": {},
     "output_type": "execute_result"
    }
   ],
   "source": [
    "#Reshape array into 10x10 ndarray \n",
    "A = A.reshape(10, 10)\n",
    "\n",
    "A"
   ]
  },
  {
   "cell_type": "code",
   "execution_count": 68,
   "id": "644fbee6-bae1-4055-b294-a2f6e42716de",
   "metadata": {},
   "outputs": [
    {
     "data": {
      "text/plain": [
       "array([   9,   36,   81,  144,  225,  324,  441,  576,  729,  900, 1089,\n",
       "       1296, 1521, 1764, 2025, 2304, 2601, 2916, 3249, 3600, 3969, 4356,\n",
       "       4761, 5184, 5625, 6084, 6561, 7056, 7569, 8100, 8649, 9216, 9801])"
      ]
     },
     "execution_count": 68,
     "metadata": {},
     "output_type": "execute_result"
    }
   ],
   "source": [
    "#Determine the elements divisible by 3\n",
    "div_by_3 = A[A % 3 == 0]\n",
    "\n",
    "div_by_3"
   ]
  },
  {
   "cell_type": "code",
   "execution_count": 70,
   "id": "62817709-c97a-485f-bede-1054c87ebf85",
   "metadata": {},
   "outputs": [],
   "source": [
    "#Save the result\n",
    "np.save('div_by_3.npy', div_by_3)"
   ]
  }
 ],
 "metadata": {
  "kernelspec": {
   "display_name": "anaconda-panel-2023.05-py310",
   "language": "python",
   "name": "conda-env-anaconda-panel-2023.05-py310-py"
  },
  "language_info": {
   "codemirror_mode": {
    "name": "ipython",
    "version": 3
   },
   "file_extension": ".py",
   "mimetype": "text/x-python",
   "name": "python",
   "nbconvert_exporter": "python",
   "pygments_lexer": "ipython3",
   "version": "3.11.5"
  }
 },
 "nbformat": 4,
 "nbformat_minor": 5
}
